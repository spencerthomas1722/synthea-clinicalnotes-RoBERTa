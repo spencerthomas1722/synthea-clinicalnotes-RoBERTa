{
  "cells": [
    {
      "attachments": {},
      "cell_type": "markdown",
      "metadata": {
        "id": "vpNsTmwMZj12"
      },
      "source": [
        "## Shell stuff\n",
        "\n"
      ]
    },
    {
      "cell_type": "code",
      "execution_count": null,
      "metadata": {
        "colab": {
          "base_uri": "https://localhost:8080/"
        },
        "id": "1psdkYeNVmOZ",
        "outputId": "acad7469-8cf4-4631-d3e6-550269871929"
      },
      "outputs": [],
      "source": [
        "from google.colab import drive\n",
        "drive.mount('/content/drive', force_remount=True)"
      ]
    },
    {
      "attachments": {},
      "cell_type": "markdown",
      "metadata": {},
      "source": [
        "### Get requirements and data"
      ]
    },
    {
      "cell_type": "code",
      "execution_count": null,
      "metadata": {
        "colab": {
          "base_uri": "https://localhost:8080/"
        },
        "id": "4KNxs6p1vtnd",
        "outputId": "9ce20620-c40b-4f1e-96b8-78d54304d253"
      },
      "outputs": [],
      "source": [
        "%cd drive/MyDrive/Colab Notebooks/info_extraction/synth_notes"
      ]
    },
    {
      "cell_type": "code",
      "execution_count": null,
      "metadata": {
        "colab": {
          "base_uri": "https://localhost:8080/"
        },
        "id": "xBRIZ3m82TAT",
        "outputId": "6b8a86c0-41ec-4525-ae42-66493ac51062"
      },
      "outputs": [],
      "source": [
        "%%shell\n",
        "pip install -r requirements.txt\n",
        "cd bio-lm\n",
        "pip install -r requirements.txt\n",
        "cd .."
      ]
    },
    {
      "cell_type": "code",
      "execution_count": null,
      "metadata": {
        "colab": {
          "base_uri": "https://localhost:8080/"
        },
        "id": "thZBXgWPJjoX",
        "outputId": "b0181d6f-25bf-4250-eab1-d048bbf76fb3"
      },
      "outputs": [],
      "source": [
        "!python -m spacy download en_core_web_sm"
      ]
    },
    {
      "cell_type": "code",
      "execution_count": null,
      "metadata": {
        "colab": {
          "base_uri": "https://localhost:8080/"
        },
        "id": "zpqQHq9LJA-c",
        "outputId": "74ce6c9e-b2e7-41fa-f0c7-f7e10cca5c55"
      },
      "outputs": [],
      "source": [
        "!apt install git-lfs"
      ]
    },
    {
      "cell_type": "code",
      "execution_count": null,
      "metadata": {
        "id": "NrFBX2GUvfbd"
      },
      "outputs": [],
      "source": [
        "!wget https://dl.fbaipublicfiles.com/biolm/RoBERTa-base-PM-hf.tar.gz\n",
        "!tar -zxvf RoBERTa-base-PM-hf.tar.gz"
      ]
    },
    {
      "cell_type": "code",
      "execution_count": null,
      "metadata": {
        "colab": {
          "base_uri": "https://localhost:8080/"
        },
        "id": "LkgWBjVH2aoN",
        "outputId": "22c3a47b-d89c-4494-a20c-d58300da69ef"
      },
      "outputs": [],
      "source": [
        "%%shell\n",
        "git clone https://github.com/huggingface/transformers.git\n",
        "cd transformers\n",
        "git reset --hard 601ac5b1dc1438f00d09696588f2deb0f045ae3b\n",
        "pip install -e .\n",
        "cd .."
      ]
    },
    {
      "cell_type": "code",
      "execution_count": null,
      "metadata": {
        "colab": {
          "base_uri": "https://localhost:8080/"
        },
        "id": "QFCeS6Wa2f6h",
        "outputId": "ad2ad913-a687-4dbc-8797-52571f40ac40"
      },
      "outputs": [],
      "source": [
        "%%shell\n",
        "git clone https://github.com/ncbi-nlp/BLUE_Benchmark.git\n",
        "cd BLUE_Benchmark\n",
        "git reset --hard b6216f2cb9bba209ee7028fc874123d8fd5a810c\n",
        "cd .."
      ]
    },
    {
      "cell_type": "code",
      "execution_count": null,
      "metadata": {
        "id": "pQ2wZNiw2kZm"
      },
      "outputs": [],
      "source": [
        "!wget https://raw.githubusercontent.com/spyysalo/conlleval.py/master/conlleval.py"
      ]
    },
    {
      "cell_type": "code",
      "execution_count": null,
      "metadata": {
        "id": "CqJP1oj1NcJM"
      },
      "outputs": [],
      "source": [
        "%%shell\n",
        "git clone https://github.com/facebookresearch/bio-lm.git"
      ]
    },
    {
      "cell_type": "code",
      "execution_count": null,
      "metadata": {},
      "outputs": [],
      "source": [
        "%%shell\n",
        "bash bio-lm/preprocessing/download_all_task_data.sh\n",
        "cd ..\n",
        "bash bio-lm/preprocessing/preprocess_all_classification_datasets.sh\n",
        "cd bio-lm"
      ]
    },
    {
      "attachments": {},
      "cell_type": "markdown",
      "metadata": {
        "id": "JJ32bq0SoJQ_"
      },
      "source": [
        "## Classification task\n",
        "* SynthCLIP data: base vs synth vs CLIP\n",
        "* CLIP data: base vs synth vs CLIP"
      ]
    },
    {
      "attachments": {},
      "cell_type": "markdown",
      "metadata": {
        "id": "ai0GTzk-oRzR"
      },
      "source": [
        "### SynthCLIP"
      ]
    },
    {
      "attachments": {},
      "cell_type": "markdown",
      "metadata": {},
      "source": [
        "Test base model on SynthCLIP"
      ]
    },
    {
      "cell_type": "code",
      "execution_count": null,
      "metadata": {
        "id": "bEi2kMEcABbV"
      },
      "outputs": [],
      "source": [
        "%%shell\n",
        "TASK=\"SynthCLIP\"\n",
        "DATADIR=\"../data/tasks/SynthCLIP\"\n",
        "MODEL=RoBERTa-base-PM-hf\n",
        "MODEL_TYPE=roberta\n",
        "python -m biolm.run_classification \\\n",
        "    --task_name ${TASK}\\\n",
        "    --data_dir ${DATADIR}\\\n",
        "    --model_type ${MODEL_TYPE}\\\n",
        "    --model_name_or_path ${MODEL}\\\n",
        "    --tokenizer_name roberta-base \\\n",
        "    --output_dir model \\\n",
        "    --do_test\\\n",
        "    --overwrite_output_dir \\\n",
        "    --overwrite_cache \\"
      ]
    },
    {
      "attachments": {},
      "cell_type": "markdown",
      "metadata": {},
      "source": [
        "Train and test on SynthCLIP data"
      ]
    },
    {
      "cell_type": "code",
      "execution_count": null,
      "metadata": {
        "id": "GHB2MMMVV60d"
      },
      "outputs": [],
      "source": [
        "%%shell\n",
        "TASK=\"SynthCLIP\"\n",
        "DATADIR=\"../data/tasks/SynthCLIP\"\n",
        "MODEL=RoBERTa-base-PM-hf\n",
        "MODEL_TYPE=roberta\n",
        "python -m biolm.run_classification \\\n",
        "    --task_name ${TASK}\\\n",
        "    --data_dir ${DATADIR}\\\n",
        "    --model_type ${MODEL_TYPE}\\\n",
        "    --model_name_or_path ${MODEL}\\\n",
        "    --tokenizer_name roberta-base \\\n",
        "    --output_dir model_synth_undersampled \\\n",
        "    --do_train \\\n",
        "    --do_eval \\\n",
        "    --overwrite_output_dir \\\n",
        "    --overwrite_cache \\"
      ]
    },
    {
      "cell_type": "code",
      "execution_count": null,
      "metadata": {
        "colab": {
          "base_uri": "https://localhost:8080/"
        },
        "id": "IERlXEiQoZ1s",
        "outputId": "4130c8e6-0d01-4a98-ae6d-d0cd3d017b2c"
      },
      "outputs": [],
      "source": [
        "%%shell\n",
        "TASK=\"SynthCLIP\"\n",
        "DATADIR=\"../data/tasks/SynthCLIP\"\n",
        "MODEL=model_synth_undersampled\n",
        "MODEL_TYPE=roberta\n",
        "python -m biolm.run_classification \\\n",
        "    --task_name ${TASK}\\\n",
        "    --data_dir ${DATADIR}\\\n",
        "    --model_type ${MODEL_TYPE}\\\n",
        "    --model_name_or_path ${MODEL}\\\n",
        "    --tokenizer_name roberta-base \\\n",
        "    --output_dir model_synth_undersampled \\\n",
        "    --do_test \\\n",
        "    --overwrite_output_dir \\\n",
        "    --overwrite_cache \\"
      ]
    },
    {
      "attachments": {},
      "cell_type": "markdown",
      "metadata": {
        "id": "KFhaYcuGo3xj"
      },
      "source": [
        "### CLIP experiments"
      ]
    },
    {
      "cell_type": "code",
      "execution_count": null,
      "metadata": {
        "colab": {
          "base_uri": "https://localhost:8080/"
        },
        "id": "3d0rUg6jQwER",
        "outputId": "7eb52fc7-db40-4096-ba38-dc11f65b781d"
      },
      "outputs": [],
      "source": [
        "!wget -r -N -c -np --user sathomas --ask-password https://physionet.org/files/mimic-iii-clinical-action/1.0.0/"
      ]
    },
    {
      "attachments": {},
      "cell_type": "markdown",
      "metadata": {
        "id": "IEnlZgKWpENP"
      },
      "source": [
        "Base model for CLIP test"
      ]
    },
    {
      "cell_type": "code",
      "execution_count": null,
      "metadata": {
        "colab": {
          "base_uri": "https://localhost:8080/"
        },
        "id": "9JW6KnxkpMU2",
        "outputId": "60b220b4-e620-450f-ce7b-25cf522ebdaa"
      },
      "outputs": [],
      "source": [
        "%%shell\n",
        "TASK=\"CLIP\"\n",
        "DATADIR=\"../data/tasks/CLIP\"\n",
        "MODEL=RoBERTa-base-PM-hf\n",
        "MODEL_TYPE=roberta\n",
        "python -m biolm.run_classification \\\n",
        "    --task_name ${TASK}\\\n",
        "    --data_dir ${DATADIR}\\\n",
        "    --model_type ${MODEL_TYPE}\\\n",
        "    --model_name_or_path ${MODEL}\\\n",
        "    --tokenizer_name roberta-base \\\n",
        "    --output_dir ${MODEL} \\\n",
        "    --do_test \\\n",
        "    --overwrite_output_dir \\\n",
        "    --overwrite_cache \\"
      ]
    },
    {
      "attachments": {},
      "cell_type": "markdown",
      "metadata": {
        "id": "MCESHVUhpN4C"
      },
      "source": [
        "Train CLIP model for CLIP task"
      ]
    },
    {
      "cell_type": "code",
      "execution_count": null,
      "metadata": {
        "colab": {
          "base_uri": "https://localhost:8080/"
        },
        "id": "M0y09Q4TcGUD",
        "outputId": "466c46bf-4d2e-4142-e35e-c993acae59b2"
      },
      "outputs": [],
      "source": [
        "%%shell\n",
        "TASK=\"CLIP\"\n",
        "DATADIR=\"../data/tasks/CLIP\"\n",
        "MODEL=model_clip_undersampled\n",
        "MODEL_TYPE=roberta\n",
        "python -m biolm.run_classification \\\n",
        "    --task_name ${TASK}\\\n",
        "    --data_dir ${DATADIR}\\\n",
        "    --model_type ${MODEL_TYPE}\\\n",
        "    --model_name_or_path ${MODEL}\\\n",
        "    --tokenizer_name roberta-base \\\n",
        "    --output_dir model_clip_undersampled \\\n",
        "    --do_train \\\n",
        "    --do_eval \\\n",
        "    --overwrite_output_dir "
      ]
    },
    {
      "cell_type": "code",
      "execution_count": null,
      "metadata": {
        "colab": {
          "base_uri": "https://localhost:8080/",
          "height": 1000
        },
        "id": "eyf2QlABeDmC",
        "outputId": "c7fb038e-26e3-4aa1-82b9-063cf69d779a"
      },
      "outputs": [],
      "source": [
        "%%shell\n",
        "TASK=\"CLIP\"\n",
        "DATADIR=\"../data/tasks/CLIP\"\n",
        "MODEL=model_clip_undersampled\n",
        "MODEL_TYPE=roberta\n",
        "python -m biolm.run_classification \\\n",
        "    --task_name ${TASK}\\\n",
        "    --data_dir ${DATADIR}\\\n",
        "    --model_type ${MODEL_TYPE}\\\n",
        "    --model_name_or_path ${MODEL}\\\n",
        "    --tokenizer_name roberta-base \\\n",
        "    --output_dir model_clip_undersampled \\\n",
        "    --do_test \\\n",
        "    --overwrite_output_dir "
      ]
    },
    {
      "attachments": {},
      "cell_type": "markdown",
      "metadata": {
        "id": "kSPuUbkRpjfi"
      },
      "source": [
        "test CLIP model on synth test"
      ]
    },
    {
      "cell_type": "code",
      "execution_count": null,
      "metadata": {
        "id": "CY5hSMWeCTsM"
      },
      "outputs": [],
      "source": [
        "%%shell\n",
        "TASK=\"SynthCLIP\"\n",
        "DATADIR=\"../data/tasks/SynthCLIP\"\n",
        "MODEL=model_clip_undersampled\n",
        "MODEL_TYPE=roberta\n",
        "python -m biolm.run_classification \\\n",
        "    --task_name ${TASK}\\\n",
        "    --data_dir ${DATADIR}\\\n",
        "    --model_type ${MODEL_TYPE}\\\n",
        "    --model_name_or_path ${MODEL}\\\n",
        "    --tokenizer_name roberta-base \\\n",
        "    --output_dir model_clip_undersampled \\\n",
        "    --do_test \\\n",
        "    --overwrite_output_dir \\"
      ]
    },
    {
      "attachments": {},
      "cell_type": "markdown",
      "metadata": {
        "id": "NsxYRFgmpfjI"
      },
      "source": [
        "Test SynthCLIP model on CLIP task"
      ]
    },
    {
      "cell_type": "code",
      "execution_count": null,
      "metadata": {
        "colab": {
          "base_uri": "https://localhost:8080/"
        },
        "id": "ee_chJmgAzDH",
        "outputId": "19b46583-b8f1-4449-bec6-ecc4bd14c143"
      },
      "outputs": [],
      "source": [
        "%%shell\n",
        "TASK=\"CLIP\"\n",
        "DATADIR=\"../data/tasks/CLIP\"\n",
        "MODEL=model_synth_undersampled\n",
        "MODEL_TYPE=roberta\n",
        "python -m biolm.run_classification \\\n",
        "    --task_name ${TASK}\\\n",
        "    --data_dir ${DATADIR}\\\n",
        "    --model_type ${MODEL_TYPE}\\\n",
        "    --model_name_or_path ${MODEL}\\\n",
        "    --tokenizer_name roberta-base \\\n",
        "    --output_dir model_synth_undersampled \\\n",
        "    --do_test \\\n",
        "    --overwrite_output_dir \\"
      ]
    },
    {
      "attachments": {},
      "cell_type": "markdown",
      "metadata": {
        "id": "Mx94ayZAndOs"
      },
      "source": [
        "## i2b2 concept extraction task"
      ]
    },
    {
      "attachments": {},
      "cell_type": "markdown",
      "metadata": {
        "id": "6A3VujN4ni6t"
      },
      "source": [
        "Import data and preprocess"
      ]
    },
    {
      "cell_type": "code",
      "execution_count": null,
      "metadata": {
        "colab": {
          "base_uri": "https://localhost:8080/"
        },
        "id": "cV7ScR8jnVgZ",
        "outputId": "5209a3ea-bfda-43e5-cbef-1cd51daff83c"
      },
      "outputs": [],
      "source": [
        "%%shell\n",
        "cd data\n",
        "tar -zxvf concept_assertion_relation_training_data.tar.gz\n",
        "cd .."
      ]
    },
    {
      "cell_type": "code",
      "execution_count": null,
      "metadata": {
        "colab": {
          "base_uri": "https://localhost:8080/"
        },
        "id": "gmSBWUBojPlV",
        "outputId": "05beacea-6bcf-41c1-d3d0-b0fb49e29f9f"
      },
      "outputs": [],
      "source": [
        "%%shell\n",
        "cd data\n",
        "tar -zxvf reference_standard_for_test_data.tar.gz\n",
        "cd .."
      ]
    },
    {
      "cell_type": "code",
      "execution_count": null,
      "metadata": {
        "colab": {
          "base_uri": "https://localhost:8080/"
        },
        "id": "-xZtq6l1iIkk",
        "outputId": "07c7b4ed-b9ff-46ae-80ef-1d710dde4384"
      },
      "outputs": [],
      "source": [
        "%%shell\n",
        "cd bio-lm\n",
        "python preprocessing/preprocess_i2b2_2010_ner.py \\\n",
        "    --beth_dir ../data/concept_assertion_relation_training_data/beth \\\n",
        "    --partners_dir ../data/concept_assertion_relation_training_data/partners \\\n",
        "    --test_txt_dir ../data/test_data \\\n",
        "    --test_dir ../data/reference_standard_for_test_data \\\n",
        "    --task_dir ../data/tasks/i2b2"
      ]
    },
    {
      "attachments": {},
      "cell_type": "markdown",
      "metadata": {},
      "source": [
        "Test base model on i2b2 task"
      ]
    },
    {
      "cell_type": "code",
      "execution_count": null,
      "metadata": {},
      "outputs": [],
      "source": [
        "%%shell\n",
        "TASK=\"i2b2\"\n",
        "DATADIR=\"../data/tasks/i2b2/merged\"\n",
        "MODEL=RoBERTa-base-PM\n",
        "MODEL_TYPE=roberta\n",
        "python -m biolm.run_sequence_labelling \\\n",
        "    --data_dir ${DATADIR} \\\n",
        "    --model_type ${MODEL_TYPE} \\\n",
        "    --labels ${DATADIR}/../mergedlabels.txt \\\n",
        "    --model_name_or_path ${MODEL} \\\n",
        "    --tokenizer_name roberta-base \\\n",
        "    --output_dir base_ft_i2b2 \\\n",
        "    --max_seq_length  512 \\\n",
        "    --per_gpu_train_batch_size 8 \\\n",
        "    --save_steps 500 \\\n",
        "    --seed 10 \\\n",
        "    --gradient_accumulation_steps 4 \\\n",
        "    --do_predict \\\n",
        "    --overwrite_output_dir \\\n",
        "    --overwrite_cache \\"
      ]
    },
    {
      "attachments": {},
      "cell_type": "markdown",
      "metadata": {},
      "source": [
        "Train and test Synth-trained RoBERTa on i2b2 task"
      ]
    },
    {
      "cell_type": "code",
      "execution_count": null,
      "metadata": {
        "colab": {
          "base_uri": "https://localhost:8080/"
        },
        "id": "aSAAQXwbi5W4",
        "outputId": "f5c1e5af-a210-4ae5-b3d0-ec28c0ac4724"
      },
      "outputs": [],
      "source": [
        "%%shell\n",
        "TASK=\"i2b2\"\n",
        "DATADIR=\"../data/tasks/i2b2/merged\"\n",
        "MODEL=RoBERTa-base-PM-hf\n",
        "MODEL_TYPE=roberta\n",
        "python -m biolm.run_sequence_labelling \\\n",
        "    --data_dir ${DATADIR} \\\n",
        "    --model_type ${MODEL_TYPE} \\\n",
        "    --labels ${DATADIR}/../mergedlabels.txt \\\n",
        "    --model_name_or_path ${MODEL} \\\n",
        "    --tokenizer_name roberta-base \\\n",
        "    --output_dir base_ft_i2b2 \\\n",
        "    --max_seq_length  512 \\\n",
        "    --num_train_epochs 3 \\\n",
        "    --per_gpu_train_batch_size 8 \\\n",
        "    --save_steps 500 \\\n",
        "    --seed 10 \\\n",
        "    --gradient_accumulation_steps 4 \\\n",
        "    --do_train \\\n",
        "    --do_eval \\\n",
        "    --eval_all_checkpoints \\\n",
        "    --evaluate_during_training \\\n",
        "    --overwrite_output_dir \\\n",
        "    --overwrite_cache \\"
      ]
    },
    {
      "cell_type": "code",
      "execution_count": null,
      "metadata": {
        "colab": {
          "base_uri": "https://localhost:8080/"
        },
        "id": "0fidSyFhncsn",
        "outputId": "62a4f810-ae41-43d8-9296-25a11e3060ee"
      },
      "outputs": [],
      "source": [
        "%%shell\n",
        "TASK=\"i2b2\"\n",
        "DATADIR=\"../data/tasks/i2b2/merged\"\n",
        "MODEL=base_ft_i2b2\n",
        "MODEL_TYPE=roberta\n",
        "python -m biolm.run_sequence_labelling \\\n",
        "    --data_dir ${DATADIR} \\\n",
        "    --model_type ${MODEL_TYPE} \\\n",
        "    --labels ${DATADIR}/../mergedlabels.txt \\\n",
        "    --model_name_or_path ${MODEL} \\\n",
        "    --tokenizer_name roberta-base \\\n",
        "    --output_dir base_ft_i2b2 \\\n",
        "    --max_seq_length  512 \\\n",
        "    --save_steps 500 \\\n",
        "    --seed 10 \\\n",
        "    --do_predict \\"
      ]
    },
    {
      "attachments": {},
      "cell_type": "markdown",
      "metadata": {
        "id": "elLoq7CwnoTt"
      },
      "source": [
        "test on trained-on-synth model"
      ]
    },
    {
      "cell_type": "code",
      "execution_count": null,
      "metadata": {
        "colab": {
          "base_uri": "https://localhost:8080/"
        },
        "id": "YGeh178BrxKr",
        "outputId": "ceb89003-ac30-4de7-a72a-828b6611b966"
      },
      "outputs": [],
      "source": [
        "%%shell\n",
        "TASK=\"i2b2\"\n",
        "DATADIR=\"../data/tasks/i2b2/merged\"\n",
        "MODEL=roberta-trained-on-synth-mlm\n",
        "MODEL_TYPE=roberta\n",
        "python -m biolm.run_sequence_labelling \\\n",
        "    --data_dir ${DATADIR} \\\n",
        "    --model_type ${MODEL_TYPE} \\\n",
        "    --labels ${DATADIR}/../mergedlabels.txt \\\n",
        "    --model_name_or_path ${MODEL} \\\n",
        "    --tokenizer_name roberta-base \\\n",
        "    --output_dir bio-lm/mlm_ft_i2b2 \\\n",
        "    --max_seq_length  512 \\\n",
        "    --num_train_epochs 3 \\\n",
        "    --per_gpu_train_batch_size 8 \\\n",
        "    --save_steps 500 \\\n",
        "    --seed 10 \\\n",
        "    --gradient_accumulation_steps 4 \\\n",
        "    --do_train \\\n",
        "    --do_eval \\\n",
        "    --eval_all_checkpoints\\\n",
        "    --overwrite_output_dir\\\n",
        "    --overwrite_cache \\"
      ]
    },
    {
      "cell_type": "code",
      "execution_count": null,
      "metadata": {
        "colab": {
          "base_uri": "https://localhost:8080/"
        },
        "id": "V-_DwGBFr-yI",
        "outputId": "88589fc4-5cad-4ba2-d083-6682b285cd8a"
      },
      "outputs": [],
      "source": [
        "%%shell\n",
        "TASK=\"i2b2\"\n",
        "DATADIR=\"../data/tasks/i2b2/merged\"\n",
        "MODEL=../roberta-trained-on-synth-mlm\n",
        "MODEL_TYPE=roberta\n",
        "python -m biolm.run_sequence_labelling \\\n",
        "    --data_dir ${DATADIR} \\\n",
        "    --model_type ${MODEL_TYPE} \\\n",
        "    --labels ${DATADIR}/../mergedlabels.txt \\\n",
        "    --model_name_or_path ${MODEL} \\\n",
        "    --tokenizer_name roberta-base \\\n",
        "    --output_dir mlm_ft_i2b2 \\\n",
        "    --max_seq_length  512 \\\n",
        "    --save_steps 500 \\\n",
        "    --seed 10 \\\n",
        "    --do_predict \\"
      ]
    },
    {
      "attachments": {},
      "cell_type": "markdown",
      "metadata": {},
      "source": [
        "Train and test Synthea-trained RoBERTa on i2b2 task"
      ]
    },
    {
      "cell_type": "code",
      "execution_count": null,
      "metadata": {
        "colab": {
          "base_uri": "https://localhost:8080/"
        },
        "id": "pQOS11g6r-fB",
        "outputId": "198a79d3-d8a2-4c61-895e-732c43aed632"
      },
      "outputs": [],
      "source": [
        "%%shell\n",
        "TASK=\"i2b2\"\n",
        "DATADIR=\"../data/tasks/i2b2/merged\"\n",
        "MODEL=../roberta-trained-on-synthea-notes-mlm2\n",
        "MODEL_TYPE=roberta\n",
        "python -m biolm.run_sequence_labelling \\\n",
        "    --data_dir ${DATADIR} \\\n",
        "    --model_type ${MODEL_TYPE} \\\n",
        "    --labels ${DATADIR}/../mergedlabels.txt \\\n",
        "    --model_name_or_path ${MODEL} \\\n",
        "    --tokenizer_name roberta-base \\\n",
        "    --output_dir bio-lm/mlm2_ft_i2b2 \\\n",
        "    --max_seq_length  512 \\\n",
        "    --num_train_epochs 3 \\\n",
        "    --per_gpu_train_batch_size 8 \\\n",
        "    --save_steps 500 \\\n",
        "    --seed 10 \\\n",
        "    --gradient_accumulation_steps 4 \\\n",
        "    --do_train \\\n",
        "    --do_eval \\\n",
        "    --eval_all_checkpoints \\\n",
        "    --overwrite_output_dir \\\n",
        "    --overwrite_cache \\"
      ]
    },
    {
      "cell_type": "code",
      "execution_count": null,
      "metadata": {
        "colab": {
          "base_uri": "https://localhost:8080/"
        },
        "id": "4CScxOT3XQon",
        "outputId": "f951deff-fe60-4a28-e4b5-e23dbdd873c8"
      },
      "outputs": [],
      "source": [
        "%%shell\n",
        "TASK=\"i2b2\"\n",
        "DATADIR=\"../data/tasks/i2b2/merged\"\n",
        "MODEL=mlm2_ft_i2b2\n",
        "MODEL_TYPE=roberta\n",
        "python -m biolm.run_sequence_labelling \\\n",
        "    --data_dir ${DATADIR} \\\n",
        "    --model_type ${MODEL_TYPE} \\\n",
        "    --labels ${DATADIR}/../mergedlabels.txt \\\n",
        "    --model_name_or_path ${MODEL} \\\n",
        "    --tokenizer_name roberta-base \\\n",
        "    --output_dir mlm2_ft_i2b2 \\\n",
        "    --max_seq_length  512 \\\n",
        "    --save_steps 500 \\\n",
        "    --seed 10 \\\n",
        "    --do_predict\\\n",
        "    --eval_all_checkpoints \\\n",
        "    --overwrite_cache \\"
      ]
    }
  ],
  "metadata": {
    "accelerator": "GPU",
    "colab": {
      "collapsed_sections": [
        "vpNsTmwMZj12"
      ],
      "gpuType": "T4",
      "provenance": []
    },
    "gpuClass": "standard",
    "kernelspec": {
      "display_name": "Python 3",
      "name": "python3"
    },
    "language_info": {
      "name": "python"
    }
  },
  "nbformat": 4,
  "nbformat_minor": 0
}
