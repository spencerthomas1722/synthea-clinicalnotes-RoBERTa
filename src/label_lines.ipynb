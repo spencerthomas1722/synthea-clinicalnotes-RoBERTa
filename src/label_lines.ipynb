{
 "cells": [
  {
   "cell_type": "code",
   "execution_count": 160,
   "metadata": {},
   "outputs": [],
   "source": [
    "import pandas as pd"
   ]
  },
  {
   "cell_type": "code",
   "execution_count": 162,
   "metadata": {},
   "outputs": [],
   "source": [
    "# names of medications to detect later\n",
    "med_names = ['altretamine', 'bendamustine', 'busulfan', 'carboplatin', 'chlorambucil', 'cisplatin', 'cyclophosphamide', 'dacarbazine', 'ifosfamide', 'mechlorethamine', 'melphalan', 'oxaliplatin', 'procarbazine', 'temozolomide', 'thiotepa', 'trabectedin', 'acetaminophen', 'adderall', 'amitriptyline', 'amlodipine', 'amoxicillin', 'ativan', 'atorvastatin', 'azithromycin', 'benzonatate', 'brilinta', 'bunavail', 'buprenorphine', 'cephalexin', 'ciprofloxacin', 'citalopram', 'clindamycin', 'clonazepam', 'cyclobenzaprine', 'cymbalta', 'doxycycline', 'dupixent', 'entresto', 'entyvio', 'farxiga', 'fentanyl', 'patch', 'gabapentin', 'gilenya', 'humira', 'hydrochlorothiazide', 'hydroxychloroquine', 'ibuprofen', 'imbruvica', 'invokana', 'januvia', 'jardiance', 'kevzara', 'lexapro', 'lisinopril', 'lofexidine', 'loratadine', 'lyrica', 'melatonin', 'meloxicam', 'metformin', 'methadone', 'methotrexate', 'metoprolol', 'naloxone', 'naltrexone', 'naproxen', 'narcan', 'nurtec', 'omeprazole', 'onpattro', 'otezla', 'ozempic', 'pantoprazole', 'prednisone', 'probuphine', 'rybelsus', 'secukinumab', 'sublocade', 'tramadol', 'trazodone', 'viagra', 'wegovy', 'wellbutrin', 'xanax']"
   ]
  },
  {
   "cell_type": "code",
   "execution_count": 161,
   "metadata": {},
   "outputs": [],
   "source": [
    "# get all notes\n",
    "df = pd.read_csv('../detailed_withhistory_augmented_formatted.csv')[:3000]\n",
    "texts = df['response'].values"
   ]
  },
  {
   "attachments": {},
   "cell_type": "markdown",
   "metadata": {},
   "source": [
    "## Use the presence of certain keywords to guess label"
   ]
  },
  {
   "cell_type": "code",
   "execution_count": 163,
   "metadata": {},
   "outputs": [],
   "source": [
    "def detect_appt(line):\n",
    "    for term in ['follow-up', 'follow up', 'followup', 'appointment', 'appt', 'ology', 'ologist', 'nutritionist', 'dietician', 'refer']:\n",
    "        if term in line.lower() and 'as needed' not in line and len(line.split()) > 3:\n",
    "            return True\n",
    "    return False\n",
    "def detect_pt(line):\n",
    "    for term in ['advise', 'monitor', 'instruct', 'refrain', 'lifestyle', 'diet', 'exercise']:\n",
    "        if term in line.lower():\n",
    "            return True\n",
    "    return False\n",
    "def detect_other(line):\n",
    "    for term in ['will', 'monitor']:\n",
    "        if term in line.lower():\n",
    "            return True\n",
    "    return False\n",
    "def detect_meds(line):\n",
    "    for term in med_names + ['adjust', 'supplement', 'taper', 'wean']:  # TODO maybe specify line length > 4\n",
    "        if term in line.lower() and len(line.split()) >= 4 and 'current' not in line.lower() and 'continue' not in line.lower():\n",
    "            return True\n",
    "    return False\n",
    "def detect_procedure(line):\n",
    "    for term in [\"exam\", \"physical therapy\", \"scopy\", 'determine']:\n",
    "        if term in line.lower() and 'undergone' not in line and 'underwent' not in line and 'unremarkable' not in line and 'reveals' not in line:\n",
    "            return True\n",
    "    return False\n",
    "def detect_labs(line):\n",
    "    for term in ['lab', 'test', 'assess']:\n",
    "        if term in line.lower() and 'undergone' not in line and 'underwent' not in line and 'experienc' not in line and 'assessment' not in line.lower():\n",
    "            return True\n",
    "    return False\n",
    "def detect_imaging(line):\n",
    "    for term in [\"imaging\", 'graphy', 'gram', 'determine', 'scan']:\n",
    "        if term in line.lower() and 'undergone' not in line and 'underwent' not in line:\n",
    "            return True\n",
    "    return False"
   ]
  },
  {
   "attachments": {},
   "cell_type": "markdown",
   "metadata": {},
   "source": [
    "### Order labels according to priority, essentially"
   ]
  },
  {
   "cell_type": "code",
   "execution_count": 164,
   "metadata": {},
   "outputs": [],
   "source": [
    "def label_lines(lines):\n",
    "    line_labels = []\n",
    "    for i, line in enumerate(lines):\n",
    "        if detect_procedure(line) and i >= len(lines) - 10:\n",
    "            line_labels.append('Procedure')\n",
    "            continue\n",
    "        elif detect_imaging(line):\n",
    "            line_labels.append('Imaging')\n",
    "            continue\n",
    "        elif detect_appt(line):\n",
    "            line_labels.append('Appointment')\n",
    "            continue\n",
    "        elif detect_pt(line) and i >= len(lines)/2 and not line.startswith('We will'):\n",
    "            line_labels.append('Patient instructions')\n",
    "            continue\n",
    "        elif detect_labs(line) and i >= len(lines) - 10:\n",
    "            line_labels.append('Labs')\n",
    "            continue\n",
    "        elif detect_other(line):\n",
    "            line_labels.append('Other')\n",
    "            continue\n",
    "        elif detect_meds(line) and i >= len(lines) - 10:\n",
    "            line_labels.append('Medications')\n",
    "            continue\n",
    "        elif i > len(lines) - 6 and len(line.split()) > 3 and not line.endswith('Mr') and not line.endswith('Mrs') and not line.endswith('Ms'):\n",
    "            line_labels.append('Other')\n",
    "            continue\n",
    "        else:\n",
    "            line_labels.append('No label')\n",
    "            continue\n",
    "    return line_labels"
   ]
  },
  {
   "cell_type": "code",
   "execution_count": 165,
   "metadata": {},
   "outputs": [],
   "source": [
    "out = pd.DataFrame(columns=['text', 'labels'])"
   ]
  },
  {
   "attachments": {},
   "cell_type": "markdown",
   "metadata": {},
   "source": [
    "## Get lines from notes and send them off to be labeled"
   ]
  },
  {
   "cell_type": "code",
   "execution_count": 166,
   "metadata": {},
   "outputs": [],
   "source": [
    "for text in texts:\n",
    "    lines = text.split('\\n')  # get individual lines\n",
    "    text = '. '.join(text.split('\\n'))\n",
    "    lines = [line.strip() for line in text.split('.') if line.strip()]  # remove extra spaces\n",
    "    labels = label_lines(lines)\n",
    "    text_df = pd.DataFrame(columns=['text', 'labels'])\n",
    "    text_df['text'] = lines\n",
    "    text_df['labels'] = labels\n",
    "    out = pd.concat([out, text_df])  # export"
   ]
  },
  {
   "attachments": {},
   "cell_type": "markdown",
   "metadata": {},
   "source": [
    "## Save to CSV"
   ]
  },
  {
   "cell_type": "code",
   "execution_count": 168,
   "metadata": {},
   "outputs": [],
   "source": [
    "out.to_csv('labeled_lines.csv')"
   ]
  }
 ],
 "metadata": {
  "kernelspec": {
   "display_name": "Python 3",
   "language": "python",
   "name": "python3"
  },
  "language_info": {
   "codemirror_mode": {
    "name": "ipython",
    "version": 3
   },
   "file_extension": ".py",
   "mimetype": "text/x-python",
   "name": "python",
   "nbconvert_exporter": "python",
   "pygments_lexer": "ipython3",
   "version": "3.9.0"
  },
  "orig_nbformat": 4
 },
 "nbformat": 4,
 "nbformat_minor": 2
}
